{
 "cells": [
  {
   "cell_type": "code",
   "execution_count": 1,
   "metadata": {},
   "outputs": [],
   "source": [
    "import os\n",
    "from itertools import chain\n",
    "import tensorflow as tf\n",
    "from tensorflow import keras\n",
    "from tensorflow.keras.datasets import cifar10\n",
    "from tensorflow.keras import utils\n",
    "from tensorflow.python.keras.utils.np_utils import to_categorical\n",
    "from tensorflow.keras import Sequential\n",
    "from tensorflow.keras.optimizers import Adam\n",
    "from tensorflow.keras.layers import Conv2D, Activation, MaxPooling2D, GlobalAveragePooling2D, LSTM, TimeDistributed, Dropout, Dense, BatchNormalization, Input\n",
    "from tensorflow.keras.preprocessing.image import load_img, img_to_array, ImageDataGenerator, array_to_img\n",
    "import numpy as np\n",
    "from PIL import Image\n",
    "from tqdm import tqdm\n",
    "from tqdm.keras import TqdmCallback\n",
    "import pandas as pd\n",
    "import math\n",
    "import matplotlib.pyplot as plt\n",
    "import shutil\n",
    "from collections import defaultdict\n",
    "from sklearn.model_selection import train_test_split\n",
    "import pandas as pd\n",
    "from typing import List\n",
    "\n",
    "from data import Data\n",
    "from metrics import SlicewiseAccuracy\n",
    "from data_generator import PhaseDataGenerator, SliceDataGenerator\n",
    "from results import *"
   ]
  },
  {
   "cell_type": "code",
   "execution_count": 2,
   "metadata": {},
   "outputs": [],
   "source": [
    "from tensorflow.compat.v1 import ConfigProto\n",
    "from tensorflow.compat.v1 import InteractiveSession\n",
    "\n",
    "config = ConfigProto()\n",
    "config.gpu_options.allow_growth = True\n",
    "session = InteractiveSession(config=config)"
   ]
  },
  {
   "cell_type": "markdown",
   "metadata": {},
   "source": [
    "### Init Backbone"
   ]
  },
  {
   "cell_type": "code",
   "execution_count": 3,
   "metadata": {},
   "outputs": [],
   "source": [
    "keras_app = tf.keras.applications.mobilenet\n",
    "keras_model = tf.keras.applications.mobilenet.MobileNet\n",
    "backbone = keras_model(include_top=False, pooling='avg', weights='imagenet', input_shape=(224, 224, 3))\n",
    "backbone.trainable = False"
   ]
  },
  {
   "cell_type": "markdown",
   "metadata": {},
   "source": [
    "## Initializer Data Pipeline"
   ]
  },
  {
   "cell_type": "code",
   "execution_count": 4,
   "metadata": {},
   "outputs": [],
   "source": [
    "data = Data()"
   ]
  },
  {
   "cell_type": "code",
   "execution_count": 5,
   "metadata": {},
   "outputs": [],
   "source": [
    "dgen_train= ImageDataGenerator(\n",
    "    rotation_range=20,\n",
    "    width_shift_range=0.2,\n",
    "    height_shift_range=0.2,\n",
    "    horizontal_flip=True,\n",
    "    rescale=1,\n",
    "    fill_mode=\"nearest\",\n",
    "    preprocessing_function=keras_app.preprocess_input)\n",
    "dgen_val = ImageDataGenerator(preprocessing_function=keras_app.preprocess_input)\n",
    "pgen_train = PhaseDataGenerator(data, \"KAG\", target_size=(224, 224), batch_size=2,\n",
    "                               shuffle=True, image_data_generator=dgen_train,\n",
    "                               split_index=0)\n",
    "pgen_val = PhaseDataGenerator(data, \"KAG\", target_size=(224, 224), batch_size=2,\n",
    "                              shuffle=False, image_data_generator=dgen_val,\n",
    "                              split_index=1)\n",
    "sgen_train = SliceDataGenerator(data, \"KAG\", target_size=(224, 224), batch_size=32,\n",
    "                                shuffle=True, image_data_generator=dgen_train,\n",
    "                                split_index=0)\n",
    "sgen_val = SliceDataGenerator(data, \"KAG\", target_size=(224, 224), batch_size=32,\n",
    "                              shuffle=False, image_data_generator=dgen_val,\n",
    "                              split_index=1)"
   ]
  },
  {
   "cell_type": "code",
   "execution_count": 6,
   "metadata": {},
   "outputs": [],
   "source": [
    "assert(len(set(pgen_train.sample_keys).intersection(pgen_val.sample_keys)) == 0)"
   ]
  },
  {
   "cell_type": "code",
   "execution_count": 7,
   "metadata": {},
   "outputs": [],
   "source": [
    "assert(len(set(sgen_train.slices).intersection(sgen_val.slices)) == 0)"
   ]
  },
  {
   "cell_type": "code",
   "execution_count": 8,
   "metadata": {},
   "outputs": [],
   "source": [
    "assert(np.isclose(sgen_train[0][0][0].min(), -1, rtol=1.0e-4))\n",
    "assert(np.isclose(sgen_train[0][0][0].max(), 1, rtol=1.0e-4))\n",
    "assert(np.isclose(pgen_train[0][0][0].min(), -1, rtol=1.0e-4))\n",
    "assert(np.isclose(pgen_train[0][0][0].max(), 1, rtol=1.0e-4))"
   ]
  },
  {
   "cell_type": "markdown",
   "metadata": {},
   "source": [
    "## End-To-End Models"
   ]
  },
  {
   "cell_type": "code",
   "execution_count": 9,
   "metadata": {},
   "outputs": [],
   "source": [
    "cnn_model = Sequential()\n",
    "cnn_model.add(backbone)\n",
    "cnn_model.add(Dense(256, activation=\"relu\"))\n",
    "cnn_model.add(Dropout(0.5))\n",
    "cnn_model.add(Dense(5, activation=\"softmax\"))\n",
    "\n",
    "cnn_model.layers[0].trainable = False\n",
    "cnn_model.compile(loss=\"categorical_crossentropy\",\n",
    "                  optimizer=\"adam\",\n",
    "                  metrics=['accuracy'])"
   ]
  },
  {
   "cell_type": "code",
   "execution_count": 10,
   "metadata": {
    "pycharm": {
     "name": "#%%\n"
    },
    "scrolled": true
   },
   "outputs": [
    {
     "name": "stdout",
     "output_type": "stream",
     "text": [
      "449/449 [==============================] - 347s 773ms/step - loss: 0.9051 - accuracy: 0.6245 - val_loss: 0.6362 - val_accuracy: 0.7392\n"
     ]
    }
   ],
   "source": [
    "cnn_history = cnn_model.fit(sgen_train, validation_data=sgen_val, epochs=1)"
   ]
  },
  {
   "cell_type": "code",
   "execution_count": 11,
   "metadata": {},
   "outputs": [],
   "source": [
    "rnn_model = Sequential()\n",
    "rnn_model.add(TimeDistributed(backbone))\n",
    "rnn_model.add(LSTM(256, input_shape=(25, 2048), return_sequences=True))\n",
    "rnn_model.add(Dropout(0.5))\n",
    "#rnn_model.add(TimeDistributed(Dense(256, activation=\"relu\")))\n",
    "#rnn_model.add(TimeDistributed(Dropout(0.5)))\n",
    "rnn_model.add(TimeDistributed(Dense(5, activation=\"softmax\")))\n",
    "\n",
    "rnn_model.layers[0].trainable = False\n",
    "rnn_model.compile(loss=\"categorical_crossentropy\",\n",
    "                  optimizer=\"adam\",\n",
    "                  metrics=[SlicewiseAccuracy()])"
   ]
  },
  {
   "cell_type": "code",
   "execution_count": 12,
   "metadata": {
    "scrolled": true
   },
   "outputs": [
    {
     "name": "stdout",
     "output_type": "stream",
     "text": [
      "682/682 [==============================] - 792s 1s/step - loss: 0.2750 - accuracy: 0.7268 - val_loss: 0.2186 - val_accuracy: 0.7819\n"
     ]
    }
   ],
   "source": [
    "rnn_history = rnn_model.fit(pgen_train, validation_data=pgen_val, epochs=1)"
   ]
  },
  {
   "cell_type": "markdown",
   "metadata": {},
   "source": [
    "## Evaluate"
   ]
  },
  {
   "cell_type": "code",
   "execution_count": 13,
   "metadata": {
    "scrolled": false
   },
   "outputs": [
    {
     "name": "stdout",
     "output_type": "stream",
     "text": [
      "194/194 [==============================] - 105s 539ms/step - loss: 0.6362 - accuracy: 0.7392\n",
      "[0.6361936330795288, 0.739158570766449]\n",
      "292/292 [==============================] - 237s 812ms/step - loss: 0.2186 - accuracy: 0.7819\n",
      "[0.2186177372932434, 0.7818770408630371]\n"
     ]
    }
   ],
   "source": [
    "print(cnn_model.evaluate(sgen_val))\n",
    "print(rnn_model.evaluate(pgen_val))\n",
    "cnn_preds = cnn_model.predict(sgen_val)\n",
    "rnn_preds = rnn_model.predict(pgen_val)"
   ]
  },
  {
   "cell_type": "code",
   "execution_count": 14,
   "metadata": {},
   "outputs": [
    {
     "data": {
      "text/plain": [
       "((6180, 5), (584, 25, 5))"
      ]
     },
     "execution_count": 14,
     "metadata": {},
     "output_type": "execute_result"
    }
   ],
   "source": [
    "cnn_preds.shape, rnn_preds.shape"
   ]
  },
  {
   "cell_type": "code",
   "execution_count": 15,
   "metadata": {
    "scrolled": true
   },
   "outputs": [],
   "source": [
    "slice_index = pgen_val.get_slice_index()\n",
    "rnn_predictions = compile_predictions_from_phase_output(data, rnn_preds, slice_index)"
   ]
  },
  {
   "cell_type": "code",
   "execution_count": 16,
   "metadata": {
    "scrolled": true
   },
   "outputs": [],
   "source": [
    "slice_list = sgen_val.get_slice_list()\n",
    "cnn_predictions = compile_predictions_from_slice_output(data, cnn_preds, slice_list)"
   ]
  },
  {
   "cell_type": "markdown",
   "metadata": {},
   "source": [
    "### Validate Evaluation"
   ]
  },
  {
   "cell_type": "code",
   "execution_count": 17,
   "metadata": {},
   "outputs": [],
   "source": [
    "def get_accuracy(preds, labels):\n",
    "    total_slices = 0\n",
    "    total_phases = 0\n",
    "    correct_slices = 0\n",
    "    correct_phases = 0\n",
    "\n",
    "    for phase, slices in enumerate(preds):\n",
    "        total_phases += 1\n",
    "        correct_phase = True\n",
    "        for slice, pred in enumerate(slices):\n",
    "            label = labels[phase][slice]\n",
    "            if label.sum() == 0:\n",
    "                pass\n",
    "            else:\n",
    "                total_slices += 1\n",
    "                if label.argmax() == pred.argmax():\n",
    "                    correct_slices += 1\n",
    "                else:\n",
    "                    correct_phase = False\n",
    "        if correct_phase:\n",
    "            correct_phases += 1\n",
    "\n",
    "    slice_accuracy = correct_slices / total_slices\n",
    "    phase_accuracy = correct_phases / total_phases\n",
    "\n",
    "    return slice_accuracy, phase_accuracy, total_slices"
   ]
  },
  {
   "cell_type": "code",
   "execution_count": 18,
   "metadata": {
    "scrolled": false
   },
   "outputs": [
    {
     "name": "stderr",
     "output_type": "stream",
     "text": [
      "100%|██████████| 292/292 [00:25<00:00, 11.49it/s]\n"
     ]
    },
    {
     "data": {
      "text/plain": [
       "(0.7818770226537217, 0.0702054794520548, 6180)"
      ]
     },
     "execution_count": 18,
     "metadata": {},
     "output_type": "execute_result"
    }
   ],
   "source": [
    "# Validate results\n",
    "y_rnn = np.ndarray((0, 25, 5))\n",
    "for _, labels in tqdm(pgen_val):\n",
    "    y_rnn = np.concatenate([y_rnn, labels])\n",
    "get_accuracy(rnn_preds, y_rnn)"
   ]
  },
  {
   "cell_type": "code",
   "execution_count": 19,
   "metadata": {
    "scrolled": false
   },
   "outputs": [
    {
     "data": {
      "text/plain": [
       "{'accuracy': 0.7391585760517799, 'phase_accuracy': 0.046232876712328765}"
      ]
     },
     "execution_count": 19,
     "metadata": {},
     "output_type": "execute_result"
    }
   ],
   "source": [
    "cnn_result = evaluate_predictions(cnn_predictions)\n",
    "cnn_result"
   ]
  },
  {
   "cell_type": "code",
   "execution_count": 20,
   "metadata": {
    "scrolled": true
   },
   "outputs": [
    {
     "data": {
      "text/plain": [
       "{'accuracy': 0.7818770226537217, 'phase_accuracy': 0.0702054794520548}"
      ]
     },
     "execution_count": 20,
     "metadata": {},
     "output_type": "execute_result"
    }
   ],
   "source": [
    "rnn_result = evaluate_predictions(rnn_predictions)\n",
    "rnn_result"
   ]
  },
  {
   "cell_type": "markdown",
   "metadata": {},
   "source": [
    "## Save Results"
   ]
  },
  {
   "cell_type": "code",
   "execution_count": 21,
   "metadata": {},
   "outputs": [],
   "source": [
    "result_key = \"initial_rnn\"\n",
    "os.makedirs(get_result_dir(result_key), exist_ok=True)"
   ]
  },
  {
   "cell_type": "code",
   "execution_count": 22,
   "metadata": {},
   "outputs": [],
   "source": [
    "for key, value in rnn_predictions.items():\n",
    "    scores = value[\"scores\"]\n",
    "    for k, v in scores.items():\n",
    "        scores[k] = str(v)"
   ]
  },
  {
   "cell_type": "code",
   "execution_count": 23,
   "metadata": {
    "scrolled": true
   },
   "outputs": [],
   "source": [
    "with open(get_history_path(result_key), \"w\") as f:\n",
    "    json.dump(rnn_history.history, f)\n",
    "with open(get_predictions_path(result_key), \"w\") as f:\n",
    "    json.dump(rnn_predictions, f)\n",
    "with open(get_result_path(result_key), \"w\") as f:\n",
    "    json.dump(rnn_result, f)\n",
    "rnn_model.save_weights(get_model_weights_path(result_key))"
   ]
  },
  {
   "cell_type": "code",
   "execution_count": 24,
   "metadata": {},
   "outputs": [],
   "source": [
    "result_key = \"initial_cnn\"\n",
    "os.makedirs(get_result_dir(result_key), exist_ok=True)"
   ]
  },
  {
   "cell_type": "code",
   "execution_count": 25,
   "metadata": {
    "scrolled": false
   },
   "outputs": [],
   "source": [
    "with open(get_history_path(result_key), \"w\") as f:\n",
    "    json.dump(cnn_history.history, f)\n",
    "with open(get_predictions_path(result_key), \"w\") as f:\n",
    "    json.dump(cnn_predictions, f)\n",
    "with open(get_result_path(result_key), \"w\") as f:\n",
    "    json.dump(cnn_result, f)\n",
    "cnn_model.save_weights(get_model_weights_path(result_key))"
   ]
  }
 ],
 "metadata": {
  "kernelspec": {
   "display_name": "Python 3",
   "language": "python",
   "name": "python3"
  },
  "language_info": {
   "codemirror_mode": {
    "name": "ipython",
    "version": 3
   },
   "file_extension": ".py",
   "mimetype": "text/x-python",
   "name": "python",
   "nbconvert_exporter": "python",
   "pygments_lexer": "ipython3",
   "version": "3.7.3"
  }
 },
 "nbformat": 4,
 "nbformat_minor": 4
}
