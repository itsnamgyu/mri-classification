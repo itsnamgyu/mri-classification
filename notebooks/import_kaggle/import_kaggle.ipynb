{
 "cells": [
  {
   "cell_type": "code",
   "execution_count": null,
   "metadata": {},
   "outputs": [],
   "source": [
    "import os\n",
    "import glob\n",
    "import random\n",
    "import re\n",
    "import copy\n",
    "import json\n",
    "from collections import defaultdict\n",
    "\n",
    "import tqdm\n",
    "import pydicom\n",
    "import matplotlib as mpl\n",
    "import numpy as np\n",
    "import pandas as pd\n",
    "from matplotlib import pyplot as plt\n",
    "from skimage import exposure\n",
    "import cv2"
   ]
  },
  {
   "cell_type": "markdown",
   "metadata": {},
   "source": [
    "## Setup\n",
    "\n",
    "Place kaggle dataset directory in `.`, renamed to `kaggle` such that `./kaggle/test/` exists."
   ]
  },
  {
   "cell_type": "code",
   "execution_count": null,
   "metadata": {},
   "outputs": [],
   "source": [
    "test = glob.glob(\"kaggle/test/test/**/*.dcm\", recursive=True)"
   ]
  },
  {
   "cell_type": "code",
   "execution_count": null,
   "metadata": {},
   "outputs": [],
   "source": [
    "test_sax = sorted(filter(lambda path: 'sax' in path, test))\n",
    "test_sax"
   ]
  },
  {
   "cell_type": "markdown",
   "metadata": {},
   "source": [
    "## Examine DCM File"
   ]
  },
  {
   "cell_type": "code",
   "execution_count": null,
   "metadata": {},
   "outputs": [],
   "source": [
    "dcm = pydicom.dcmread(test_sax[0])"
   ]
  },
  {
   "cell_type": "code",
   "execution_count": null,
   "metadata": {},
   "outputs": [],
   "source": [
    "dcm"
   ]
  },
  {
   "cell_type": "code",
   "execution_count": null,
   "metadata": {},
   "outputs": [],
   "source": [
    "plt.imshow(dcm.pixel_array)"
   ]
  },
  {
   "cell_type": "code",
   "execution_count": null,
   "metadata": {},
   "outputs": [],
   "source": [
    "def scale_pixel_array(pixel_array):\n",
    "    start, end = np.percentile(pixel_array, (2, 98))\n",
    "    return exposure.rescale_intensity(pixel_array, in_range=(start, end), out_range=\"uint16\")"
   ]
  },
  {
   "cell_type": "code",
   "execution_count": null,
   "metadata": {
    "scrolled": false
   },
   "outputs": [],
   "source": [
    "path = random.sample(test_sax, 1)[0]\n",
    "dcm = pydicom.dcmread(path)\n",
    "image = scale_pixel_array(dcm.pixel_array)\n",
    "plt.imshow(image)\n",
    "print(path)\n",
    "print(dcm.ImageOrientationPatient)"
   ]
  },
  {
   "cell_type": "markdown",
   "metadata": {},
   "source": [
    "## Extract Identifiers (Regex)"
   ]
  },
  {
   "cell_type": "code",
   "execution_count": null,
   "metadata": {},
   "outputs": [],
   "source": [
    "all_paths = {}\n",
    "for t in [\"train\", \"validate\", \"test\"]:\n",
    "    paths = glob.glob(\"kaggle/{t}/{t}/**/*.dcm\".format(t=t), recursive=True)\n",
    "    paths = list(sorted(filter(lambda p: 'sax' in p, paths)))\n",
    "    print(paths[:5])\n",
    "    all_paths[t] = paths"
   ]
  },
  {
   "cell_type": "code",
   "execution_count": null,
   "metadata": {},
   "outputs": [],
   "source": [
    "re_path = re.compile('kaggle/\\w*/\\w*/(?P<patient>\\d*)/study/sax_(?P<slice>\\d*)/.*?-(?P<phase>\\d*).dcm')\n",
    "path = all_paths[\"train\"][0]\n",
    "match = re_path.match(path)\n",
    "print(path)\n",
    "print(match.groups())"
   ]
  },
  {
   "cell_type": "code",
   "execution_count": null,
   "metadata": {
    "scrolled": false
   },
   "outputs": [],
   "source": [
    "for t, paths in all_paths.items():\n",
    "    for path in paths:\n",
    "        if not re_path.match(path):\n",
    "            raise AssertionError(\"Invalid path: {}\".format(path))\n",
    "print(\"All valid\")"
   ]
  },
  {
   "cell_type": "markdown",
   "metadata": {},
   "source": [
    "## Data Cleansing"
   ]
  },
  {
   "cell_type": "markdown",
   "metadata": {
    "pycharm": {
     "name": "#%% md\n"
    }
   },
   "source": [
    "### Slice Distribution"
   ]
  },
  {
   "cell_type": "code",
   "execution_count": null,
   "metadata": {
    "scrolled": false,
    "pycharm": {
     "name": "#%%\n"
    }
   },
   "outputs": [],
   "source": [
    "_slices = lambda: defaultdict(list)\n",
    "_phases = lambda: defaultdict(_slices)\n",
    "patients = defaultdict(_phases)\n",
    "outliers = defaultdict(list)\n",
    "\n",
    "duplicates = []\n",
    "for t, paths in all_paths.items():\n",
    "    for path in tqdm.tqdm(paths):\n",
    "        match = re_path.match(path)\n",
    "        assert(match)\n",
    "        patient, sid, phase = match.groups()\n",
    "        if int(sid) in patients[int(patient)][int(phase)]:\n",
    "            duplicates.append(int(patient))\n",
    "        patients[int(patient)][int(phase)][int(sid)] = path\n",
    "outliers[\"duplicate\"] = list(sorted(set(duplicates)))"
   ]
  },
  {
   "cell_type": "markdown",
   "metadata": {
    "pycharm": {
     "name": "#%% md\n"
    }
   },
   "source": [
    "### Slice Distribution Per Phase"
   ]
  },
  {
   "cell_type": "code",
   "execution_count": null,
   "metadata": {
    "scrolled": true,
    "pycharm": {
     "name": "#%%\n"
    }
   },
   "outputs": [],
   "source": [
    "for patient, phases in patients.items():\n",
    "    for phase, slices in phases.items():\n",
    "        print(patient, phase, sorted(slices.keys()))"
   ]
  },
  {
   "cell_type": "markdown",
   "metadata": {
    "pycharm": {
     "name": "#%% md\n"
    }
   },
   "source": [
    "### Slice Distribution & Outliers"
   ]
  },
  {
   "cell_type": "code",
   "execution_count": null,
   "metadata": {
    "scrolled": true,
    "pycharm": {
     "name": "#%%\n"
    }
   },
   "outputs": [],
   "source": [
    "jumps = []\n",
    "slice_counts = []\n",
    "\n",
    "for patient, phases in patients.items():\n",
    "    # assert slice distribution is identical for all phases\n",
    "    all_slices = list(phases.values())\n",
    "    slices = list(sorted(all_slices[0].keys()))\n",
    "        \n",
    "    for i, _slices in enumerate(all_slices):\n",
    "        # ignore patients w/ inconsistent slice distributions between phases\n",
    "        if len(all_slices[0]) != len(_slices):\n",
    "            outliers[\"inconsistent\"].append(patient)\n",
    "            break\n",
    "            \n",
    "    slice_counts.append(len(slices))\n",
    "    prev = slices[0]\n",
    "    for sid in slices[1:]:\n",
    "        if sid != prev + 1:\n",
    "            jumps.append(sid - prev)\n",
    "            outliers[\"jumps\"].append(patient)\n",
    "        prev = sid\n",
    "outliers[\"jumps\"] = sorted(list(set(outliers[\"jumps\"])))\n",
    "\n",
    "print(\"Duplicates\")\n",
    "print(outliers[\"duplicate\"])\n",
    "print()\n",
    "print(\"Inconsistent\")\n",
    "print(outliers[\"inconsistent\"])\n",
    "print()\n",
    "print(\"Non-contiguous Slices\")\n",
    "print(outliers[\"jumps\"])"
   ]
  },
  {
   "cell_type": "markdown",
   "metadata": {
    "pycharm": {
     "name": "#%% md\n"
    }
   },
   "source": [
    "### Distribution of Non-contiguous Slices"
   ]
  },
  {
   "cell_type": "code",
   "execution_count": null,
   "metadata": {
    "scrolled": false,
    "pycharm": {
     "name": "#%%\n"
    }
   },
   "outputs": [],
   "source": [
    "ax = pd.Series(jumps).value_counts().sort_index().plot.bar()"
   ]
  },
  {
   "cell_type": "markdown",
   "metadata": {
    "pycharm": {
     "name": "#%% md\n"
    }
   },
   "source": [
    "### Number of Slices By Patient"
   ]
  },
  {
   "cell_type": "code",
   "execution_count": null,
   "metadata": {
    "scrolled": true,
    "pycharm": {
     "name": "#%%\n"
    }
   },
   "outputs": [],
   "source": [
    "pd.Series(slice_counts).value_counts().sort_index()"
   ]
  },
  {
   "cell_type": "markdown",
   "metadata": {
    "pycharm": {
     "name": "#%% md\n"
    }
   },
   "source": [
    "### Filter Outliers"
   ]
  },
  {
   "cell_type": "code",
   "execution_count": null,
   "metadata": {},
   "outputs": [],
   "source": [
    "prime_patients = copy.deepcopy(patients)\n",
    "for outlier_patients in outliers.values():\n",
    "    for p in outlier_patients:\n",
    "        if p in prime_patients:\n",
    "            del prime_patients[p]"
   ]
  },
  {
   "cell_type": "code",
   "execution_count": null,
   "outputs": [],
   "source": [
    "prime_patients[2][1]"
   ],
   "metadata": {
    "collapsed": false,
    "pycharm": {
     "name": "#%%\n"
    }
   }
  },
  {
   "cell_type": "markdown",
   "source": [
    "## Export Data To /data/datasets As pngs"
   ],
   "metadata": {
    "collapsed": false
   }
  },
  {
   "cell_type": "code",
   "execution_count": null,
   "metadata": {
    "scrolled": false
   },
   "outputs": [],
   "source": [
    "parent = 'KAG'\n",
    "os.makedirs(parent, exist_ok=True)\n",
    "\n",
    "for patient, phases in tqdm.tqdm(prime_patients.items()):\n",
    "    for phase, slices in phases.items():\n",
    "        if phase == 10:\n",
    "            for sid, path in slices.items():\n",
    "                dcm = pydicom.dcmread(path)\n",
    "                image = scale_pixel_array(dcm.pixel_array)\n",
    "                dest = 'KAG/KAG_PA{:06d}_PH{:02d}_S{:02d}.png'.format(int(patient), int(phase), int(sid))\n",
    "                cv2.imwrite(dest, image)"
   ]
  },
  {
   "cell_type": "markdown",
   "metadata": {},
   "source": [
    "## Export Data To /data/datasets As pngs"
   ]
  },
  {
   "cell_type": "code",
   "execution_count": null,
   "metadata": {},
   "outputs": [],
   "source": [
    "parent = 'KAG'\n",
    "os.makedirs(parent, exist_ok=True)\n",
    "\n",
    "for patient, phases in tqdm.tqdm(prime_patients.items()):\n",
    "    for phase, slices in phases.items():\n",
    "        if phase == 10:\n",
    "            for sid, path in slices.items():\n",
    "                dcm = pydicom.dcmread(path)\n",
    "                image = scale_pixel_array(dcm.pixel_array)\n",
    "                dest = 'KAG/KAG_PA{:06d}_PH{:02d}_S{:02d}.png'.format(int(patient), int(phase), int(sid))\n",
    "                cv2.imwrite(dest, image)"
   ]
  }
 ],
 "metadata": {
  "kernelspec": {
   "display_name": "Python 3",
   "language": "python",
   "name": "python3"
  },
  "language_info": {
   "codemirror_mode": {
    "name": "ipython",
    "version": 3
   },
   "file_extension": ".py",
   "mimetype": "text/x-python",
   "name": "python",
   "nbconvert_exporter": "python",
   "pygments_lexer": "ipython3",
   "version": "3.7.3"
  }
 },
 "nbformat": 4,
 "nbformat_minor": 4
}