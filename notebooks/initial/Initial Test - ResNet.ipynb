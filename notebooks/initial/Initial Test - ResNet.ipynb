{
 "cells": [
  {
   "cell_type": "code",
   "execution_count": null,
   "metadata": {},
   "outputs": [],
   "source": [
    "from itertools import chain\n",
    "import tensorflow as tf\n",
    "from tensorflow import keras\n",
    "from tensorflow.python.keras.utils.np_utils import to_categorical\n",
    "from tensorflow.keras import Sequential\n",
    "from tensorflow.keras.layers import Conv2D, Activation, MaxPooling2D, GlobalAveragePooling2D, LSTM, TimeDistributed, Dropout, Dense\n",
    "from tensorflow.keras.preprocessing.image import load_img, img_to_array, ImageDataGenerator\n",
    "import numpy as np\n",
    "import cv2\n",
    "from PIL import Image\n",
    "from tqdm import tqdm\n",
    "import pandas as pd\n",
    "\n",
    "from data import Data"
   ]
  },
  {
   "cell_type": "code",
   "execution_count": null,
   "metadata": {},
   "outputs": [],
   "source": [
    "LABEL_INDEX = {\n",
    "    'ap': 0,\n",
    "    'bs': 1,\n",
    "    'mid': 2,\n",
    "    'oap': 3,\n",
    "    'obs': 4,\n",
    "}"
   ]
  },
  {
   "cell_type": "code",
   "execution_count": null,
   "metadata": {},
   "outputs": [],
   "source": [
    "data = Data()"
   ]
  },
  {
   "cell_type": "code",
   "execution_count": null,
   "metadata": {},
   "outputs": [],
   "source": [
    "dataset = 'CAT'\n",
    "phase = 0\n",
    "\n",
    "patients = data.data[dataset]\n",
    "patients = sorted(patients.items())\n",
    "phases = [p[1][phase] for p in patients]\n",
    "def dict_to_ordered_list(d):\n",
    "    items = sorted(d.items())\n",
    "    return [item[1] for item in items]\n",
    "phases = [dict_to_ordered_list(d) for d in phases]  # for LSTM training\n",
    "slices = list(chain(*phases))  # for CNN training\n",
    "slice_labels = [data.labels[s] for s in slices]"
   ]
  },
  {
   "cell_type": "code",
   "execution_count": null,
   "metadata": {},
   "outputs": [],
   "source": [
    "def path_to_array(path, target_size=(224, 224)):\n",
    "    image = Image.open(data.paths[path])\n",
    "    image = image.resize(target_size, Image.NEAREST)\n",
    "    image = img_to_array(image)\n",
    "    image = np.repeat(image, 3, axis=2)\n",
    "    image = image.astype('float32') / 256 / 256\n",
    "    return image"
   ]
  },
  {
   "cell_type": "code",
   "execution_count": null,
   "metadata": {},
   "outputs": [],
   "source": [
    "slice_x = np.stack([path_to_array(path) for path in slices])\n",
    "slice_y = np.array([LABEL_INDEX[label] for label in slice_labels])\n",
    "slice_y = to_categorical(slice_y)\n",
    "cut70 = slice_x.shape[0] * 7 // 10\n",
    "\n",
    "slice_tx = slice_x[:cut70]\n",
    "slice_vx = slice_x[cut70:]\n",
    "slice_ty = slice_y[:cut70]\n",
    "slice_vy = slice_y[cut70:]"
   ]
  },
  {
   "cell_type": "code",
   "execution_count": null,
   "metadata": {},
   "outputs": [],
   "source": [
    "backbone = keras.applications.resnet50.ResNet50(include_top=False, pooling='avg', weights='imagenet', input_shape=(224, 224, 3))"
   ]
  },
  {
   "cell_type": "code",
   "execution_count": null,
   "metadata": {},
   "outputs": [],
   "source": [
    "slice_xe = backbone.predict(slice_x)"
   ]
  },
  {
   "cell_type": "code",
   "execution_count": null,
   "metadata": {
    "scrolled": true
   },
   "outputs": [],
   "source": [
    "slice_xe.shape"
   ]
  },
  {
   "cell_type": "code",
   "execution_count": null,
   "metadata": {},
   "outputs": [],
   "source": [
    "slice_txe = slice_xe[:cut70]\n",
    "slice_vxe = slice_xe[cut70:]"
   ]
  },
  {
   "cell_type": "code",
   "execution_count": null,
   "metadata": {},
   "outputs": [],
   "source": [
    "cnn_model = Sequential()\n",
    "cnn_model.add(Dense(512, activation=\"relu\"))\n",
    "cnn_model.add(Dropout(0.5))\n",
    "cnn_model.add(Dense(512, activation=\"relu\"))\n",
    "cnn_model.add(Dropout(0.5))\n",
    "cnn_model.add(Dense(5, activation=\"softmax\"))\n",
    "\n",
    "cnn_model.compile(loss='categorical_crossentropy',\n",
    "                  optimizer=\"adam\",\n",
    "                  metrics=['accuracy'])"
   ]
  },
  {
   "cell_type": "code",
   "execution_count": null,
   "metadata": {
    "scrolled": true
   },
   "outputs": [],
   "source": [
    "cnn_history = cnn_model.fit(slice_txe, slice_ty, validation_data=(slice_vxe, slice_vy), batch_size=32, epochs=100)"
   ]
  },
  {
   "cell_type": "code",
   "execution_count": null,
   "metadata": {},
   "outputs": [],
   "source": [
    "array = np.ones((12, 224, 224, 3))"
   ]
  },
  {
   "cell_type": "code",
   "execution_count": null,
   "metadata": {
    "scrolled": true
   },
   "outputs": [],
   "source": [
    "def slice_list_to_array(slices):\n",
    "    stack = np.stack([path_to_array(path) for path in slices])\n",
    "    stack = backbone.predict(stack)\n",
    "    remaining = 25 - stack.shape[0]\n",
    "    stack = np.pad(stack, [(0, remaining), (0,0), ], constant_values=0)\n",
    "    return stack\n",
    "\n",
    "def slice_list_to_label_array(slices):\n",
    "    labels = [data.labels[s] for s in slices]\n",
    "    labels = np.array([LABEL_INDEX[label] for label in labels])\n",
    "    labels = to_categorical(labels, num_classes=5)\n",
    "    remaining = 25 - labels.shape[0]\n",
    "    labels = np.pad(labels, [(0, remaining), (0, 0)], constant_values=0)\n",
    "    return labels\n",
    "\n",
    "patient_x = []\n",
    "for phase in tqdm(phases):\n",
    "    patient_x.append(slice_list_to_array(phase))\n",
    "patient_x = np.stack(patient_x)\n",
    "patient_y = np.stack([slice_list_to_label_array(p) for p in phases])"
   ]
  },
  {
   "cell_type": "code",
   "execution_count": null,
   "metadata": {
    "scrolled": true
   },
   "outputs": [],
   "source": [
    "print(patient_x.shape)\n",
    "print(patient_y.shape)"
   ]
  },
  {
   "cell_type": "code",
   "execution_count": null,
   "metadata": {},
   "outputs": [],
   "source": [
    "cut70 = patient_x.shape[0] * 7 // 10\n",
    "\n",
    "patient_tx = patient_x[:cut70]\n",
    "patient_vx = patient_x[cut70:]\n",
    "patient_ty = patient_y[:cut70]\n",
    "patient_vy = patient_y[cut70:]"
   ]
  },
  {
   "cell_type": "code",
   "execution_count": null,
   "metadata": {},
   "outputs": [],
   "source": [
    "rnn_model = Sequential()\n",
    "rnn_model.add(LSTM(512, input_shape=(25, 2048), return_sequences=True))\n",
    "rnn_model.add(Dropout(0.5))\n",
    "rnn_model.add(LSTM(512, input_shape=(25, 2048), return_sequences=True))\n",
    "rnn_model.add(Dropout(0.5))\n",
    "rnn_model.add(TimeDistributed(Dense(5, activation=\"softmax\")))\n",
    "rnn_model.compile(loss='categorical_crossentropy',\n",
    "                  optimizer=\"adam\",\n",
    "                  metrics=['accuracy'])"
   ]
  },
  {
   "cell_type": "code",
   "execution_count": null,
   "metadata": {
    "scrolled": true
   },
   "outputs": [],
   "source": [
    "rnn_history = rnn_model.fit(patient_tx, patient_ty, validation_data=(patient_vx, patient_vy), batch_size=4, epochs=100)"
   ]
  },
  {
   "cell_type": "code",
   "execution_count": null,
   "metadata": {
    "scrolled": true
   },
   "outputs": [],
   "source": [
    "history = {}\n",
    "history[\"cnn_val_acc\"] = cnn_history.history[\"val_accuracy\"]\n",
    "history[\"rnn_val_acc\"] = rnn_history.history[\"val_accuracy\"]"
   ]
  },
  {
   "cell_type": "code",
   "execution_count": null,
   "metadata": {},
   "outputs": [],
   "source": [
    "pd.DataFrame(history).plot(xlim=[0, 100], ylim=[0.5, 0.9])"
   ]
  },
  {
   "cell_type": "code",
   "execution_count": null,
   "metadata": {},
   "outputs": [],
   "source": [
    "vp = rnn_model.predict(patient_vx)"
   ]
  },
  {
   "cell_type": "code",
   "execution_count": null,
   "metadata": {},
   "outputs": [],
   "source": [
    "correct = 0\n",
    "valid = 0\n",
    "for i in range(30):\n",
    "    for j in range(25):\n",
    "        prediction = tf.argmax(vp[i][j]).numpy()\n",
    "        if np.count_nonzero(patient_vy[i][j]) == 1:\n",
    "            valid += 1\n",
    "        if patient_vy[i][j][prediction] == 1:\n",
    "            correct += 1\n",
    "correct / valid"
   ]
  },
  {
   "cell_type": "code",
   "execution_count": null,
   "metadata": {},
   "outputs": [],
   "source": [
    "slice_vp = cnn_model.predict(slice_vxe)"
   ]
  },
  {
   "cell_type": "code",
   "execution_count": null,
   "metadata": {
    "scrolled": true
   },
   "outputs": [],
   "source": [
    "correct = 0\n",
    "valid = 0\n",
    "for i in range(379):\n",
    "    prediction = tf.argmax(slice_vp[i]).numpy()\n",
    "    if np.count_nonzero(slice_vy[i]) == 1:\n",
    "        valid += 1\n",
    "    if slice_vy[i][prediction] == 1:\n",
    "        correct += 1\n",
    "correct / valid"
   ]
  }
 ],
 "metadata": {
  "kernelspec": {
   "display_name": "Python 3",
   "language": "python",
   "name": "python3"
  },
  "language_info": {
   "codemirror_mode": {
    "name": "ipython",
    "version": 3
   },
   "file_extension": ".py",
   "mimetype": "text/x-python",
   "name": "python",
   "nbconvert_exporter": "python",
   "pygments_lexer": "ipython3",
   "version": "3.7.3"
  }
 },
 "nbformat": 4,
 "nbformat_minor": 4
}
