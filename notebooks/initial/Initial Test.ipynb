{
 "cells": [
  {
   "cell_type": "code",
   "execution_count": 1,
   "metadata": {},
   "outputs": [],
   "source": [
    "from itertools import chain\n",
    "import tensorflow as tf\n",
    "from tensorflow import keras\n",
    "from tensorflow.python.keras.utils.np_utils import to_categorical\n",
    "from tensorflow.keras import Sequential\n",
    "from tensorflow.keras.layers import Conv2D, Activation, MaxPooling2D, GlobalAveragePooling2D, LSTM, TimeDistributed, Dropout, Dense\n",
    "from tensorflow.keras.preprocessing.image import load_img, img_to_array, ImageDataGenerator\n",
    "import numpy as np\n",
    "import cv2\n",
    "from PIL import Image\n",
    "from tqdm import tqdm\n",
    "import pandas as pd\n",
    "\n",
    "from data import Data"
   ]
  },
  {
   "cell_type": "code",
   "execution_count": 2,
   "metadata": {},
   "outputs": [],
   "source": [
    "LABEL_INDEX = {\n",
    "    'ap': 0,\n",
    "    'bs': 1,\n",
    "    'mid': 2,\n",
    "    'oap': 3,\n",
    "    'obs': 4,\n",
    "}"
   ]
  },
  {
   "cell_type": "code",
   "execution_count": 3,
   "metadata": {},
   "outputs": [],
   "source": [
    "data = Data()"
   ]
  },
  {
   "cell_type": "code",
   "execution_count": 4,
   "metadata": {},
   "outputs": [],
   "source": [
    "dataset = 'CAT'\n",
    "phase = 0\n",
    "\n",
    "patients = data.data[dataset]\n",
    "patients = sorted(patients.items())\n",
    "phases = [p[1][phase] for p in patients]\n",
    "def dict_to_ordered_list(d):\n",
    "    items = sorted(d.items())\n",
    "    return [item[1] for item in items]\n",
    "phases = [dict_to_ordered_list(d) for d in phases]  # for LSTM training\n",
    "slices = list(chain(*phases))  # for CNN training\n",
    "slice_labels = [data.labels[s] for s in slices]"
   ]
  },
  {
   "cell_type": "code",
   "execution_count": 340,
   "metadata": {},
   "outputs": [],
   "source": [
    "def path_to_array(path, target_size=(224, 224)):\n",
    "    image = Image.open(data.paths[path])\n",
    "    image = image.resize(target_size, Image.NEAREST)\n",
    "    image = img_to_array(image)\n",
    "    image = np.repeat(image, 3, axis=2)\n",
    "    image = image.astype('float32') / 256 / 256\n",
    "    return image"
   ]
  },
  {
   "cell_type": "code",
   "execution_count": 342,
   "metadata": {},
   "outputs": [],
   "source": [
    "slice_x = np.stack([path_to_array(path) for path in slices])\n",
    "slice_y = np.array([LABEL_INDEX[label] for label in slice_labels])\n",
    "slice_y = to_categorical(slice_y)\n",
    "cut70 = slice_x.shape[0] * 7 // 10\n",
    "\n",
    "slice_tx = slice_x[:cut70]\n",
    "slice_vx = slice_x[cut70:]\n",
    "slice_ty = slice_y[:cut70]\n",
    "slice_vy = slice_y[cut70:]"
   ]
  },
  {
   "cell_type": "code",
   "execution_count": 343,
   "metadata": {},
   "outputs": [],
   "source": [
    "mob = keras.applications.mobilenet.MobileNet(include_top=False, pooling='avg', weights='imagenet', input_shape=(224, 224, 3))"
   ]
  },
  {
   "cell_type": "code",
   "execution_count": 344,
   "metadata": {},
   "outputs": [],
   "source": [
    "slice_xe = mob.predict(slice_x)"
   ]
  },
  {
   "cell_type": "code",
   "execution_count": 345,
   "metadata": {
    "scrolled": true
   },
   "outputs": [
    {
     "data": {
      "text/plain": [
       "(1261, 1024)"
      ]
     },
     "execution_count": 345,
     "metadata": {},
     "output_type": "execute_result"
    }
   ],
   "source": [
    "slice_xe.shape"
   ]
  },
  {
   "cell_type": "code",
   "execution_count": 347,
   "metadata": {},
   "outputs": [],
   "source": [
    "slice_txe = slice_xe[:cut70]\n",
    "slice_vxe = slice_xe[cut70:]"
   ]
  },
  {
   "cell_type": "code",
   "execution_count": 354,
   "metadata": {},
   "outputs": [],
   "source": [
    "cnn_model = Sequential()\n",
    "cnn_model.add(Dense(512, activation=\"relu\"))\n",
    "cnn_model.add(Dropout(0.5))\n",
    "cnn_model.add(Dense(512, activation=\"relu\"))\n",
    "cnn_model.add(Dropout(0.5))\n",
    "cnn_model.add(Dense(5, activation=\"softmax\"))\n",
    "\n",
    "cnn_model.compile(loss='categorical_crossentropy',\n",
    "                  optimizer=\"adam\",\n",
    "                  metrics=['accuracy'])"
   ]
  },
  {
   "cell_type": "code",
   "execution_count": 355,
   "metadata": {
    "scrolled": true
   },
   "outputs": [
    {
     "name": "stdout",
     "output_type": "stream",
     "text": [
      "Epoch 1/100\n",
      "28/28 [==============================] - 0s 7ms/step - loss: 1.7887 - accuracy: 0.3458 - val_loss: 1.0745 - val_accuracy: 0.4538\n",
      "Epoch 2/100\n",
      "28/28 [==============================] - 0s 4ms/step - loss: 1.1343 - accuracy: 0.5045 - val_loss: 0.8154 - val_accuracy: 0.7045\n",
      "Epoch 3/100\n",
      "28/28 [==============================] - 0s 4ms/step - loss: 0.8829 - accuracy: 0.6304 - val_loss: 0.7585 - val_accuracy: 0.6412\n",
      "Epoch 4/100\n",
      "28/28 [==============================] - 0s 4ms/step - loss: 0.7776 - accuracy: 0.6814 - val_loss: 0.7899 - val_accuracy: 0.6464\n",
      "Epoch 5/100\n",
      "28/28 [==============================] - 0s 4ms/step - loss: 0.7295 - accuracy: 0.6961 - val_loss: 0.6487 - val_accuracy: 0.7335\n",
      "Epoch 6/100\n",
      "28/28 [==============================] - 0s 4ms/step - loss: 0.6208 - accuracy: 0.7653 - val_loss: 0.6772 - val_accuracy: 0.7018\n",
      "Epoch 7/100\n",
      "28/28 [==============================] - 0s 4ms/step - loss: 0.6136 - accuracy: 0.7392 - val_loss: 0.6863 - val_accuracy: 0.6992\n",
      "Epoch 8/100\n",
      "28/28 [==============================] - 0s 5ms/step - loss: 0.6054 - accuracy: 0.7472 - val_loss: 0.6531 - val_accuracy: 0.7177\n",
      "Epoch 9/100\n",
      "28/28 [==============================] - 0s 4ms/step - loss: 0.5442 - accuracy: 0.7664 - val_loss: 0.6683 - val_accuracy: 0.7018\n",
      "Epoch 10/100\n",
      "28/28 [==============================] - 0s 4ms/step - loss: 0.4732 - accuracy: 0.8039 - val_loss: 0.6558 - val_accuracy: 0.7282\n",
      "Epoch 11/100\n",
      "28/28 [==============================] - 0s 4ms/step - loss: 0.4560 - accuracy: 0.8186 - val_loss: 0.8160 - val_accuracy: 0.6491\n",
      "Epoch 12/100\n",
      "28/28 [==============================] - 0s 4ms/step - loss: 0.4134 - accuracy: 0.8299 - val_loss: 0.7459 - val_accuracy: 0.6755\n",
      "Epoch 13/100\n",
      "28/28 [==============================] - 0s 4ms/step - loss: 0.3967 - accuracy: 0.8447 - val_loss: 0.7412 - val_accuracy: 0.6887\n",
      "Epoch 14/100\n",
      "28/28 [==============================] - 0s 4ms/step - loss: 0.3617 - accuracy: 0.8481 - val_loss: 0.7796 - val_accuracy: 0.7018\n",
      "Epoch 15/100\n",
      "28/28 [==============================] - 0s 4ms/step - loss: 0.2674 - accuracy: 0.8923 - val_loss: 0.7880 - val_accuracy: 0.7309\n",
      "Epoch 16/100\n",
      "28/28 [==============================] - 0s 4ms/step - loss: 0.2852 - accuracy: 0.8866 - val_loss: 0.9455 - val_accuracy: 0.6649\n",
      "Epoch 17/100\n",
      "28/28 [==============================] - 0s 4ms/step - loss: 0.2731 - accuracy: 0.9014 - val_loss: 0.7703 - val_accuracy: 0.7124\n",
      "Epoch 18/100\n",
      "28/28 [==============================] - 0s 5ms/step - loss: 0.2799 - accuracy: 0.8844 - val_loss: 0.8820 - val_accuracy: 0.7150\n",
      "Epoch 19/100\n",
      "28/28 [==============================] - 0s 4ms/step - loss: 0.3028 - accuracy: 0.8821 - val_loss: 0.7739 - val_accuracy: 0.7282\n",
      "Epoch 20/100\n",
      "28/28 [==============================] - 0s 4ms/step - loss: 0.2564 - accuracy: 0.9116 - val_loss: 0.9387 - val_accuracy: 0.6570\n",
      "Epoch 21/100\n",
      "28/28 [==============================] - 0s 5ms/step - loss: 0.2865 - accuracy: 0.8832 - val_loss: 1.1588 - val_accuracy: 0.6412\n",
      "Epoch 22/100\n",
      "28/28 [==============================] - 0s 4ms/step - loss: 0.2829 - accuracy: 0.8855 - val_loss: 0.9748 - val_accuracy: 0.6755\n",
      "Epoch 23/100\n",
      "28/28 [==============================] - 0s 4ms/step - loss: 0.2335 - accuracy: 0.9161 - val_loss: 0.8817 - val_accuracy: 0.7018\n",
      "Epoch 24/100\n",
      "28/28 [==============================] - 0s 4ms/step - loss: 0.2140 - accuracy: 0.9240 - val_loss: 0.9235 - val_accuracy: 0.7098\n",
      "Epoch 25/100\n",
      "28/28 [==============================] - 0s 4ms/step - loss: 0.2236 - accuracy: 0.9070 - val_loss: 0.8530 - val_accuracy: 0.6913\n",
      "Epoch 26/100\n",
      "28/28 [==============================] - 0s 4ms/step - loss: 0.1949 - accuracy: 0.9297 - val_loss: 0.8910 - val_accuracy: 0.7098\n",
      "Epoch 27/100\n",
      "28/28 [==============================] - 0s 4ms/step - loss: 0.1868 - accuracy: 0.9274 - val_loss: 0.9849 - val_accuracy: 0.6887\n",
      "Epoch 28/100\n",
      "28/28 [==============================] - 0s 5ms/step - loss: 0.2222 - accuracy: 0.9150 - val_loss: 0.9723 - val_accuracy: 0.7203\n",
      "Epoch 29/100\n",
      "28/28 [==============================] - 0s 5ms/step - loss: 0.1661 - accuracy: 0.9399 - val_loss: 1.1365 - val_accuracy: 0.6860\n",
      "Epoch 30/100\n",
      "28/28 [==============================] - 0s 4ms/step - loss: 0.1664 - accuracy: 0.9365 - val_loss: 1.0484 - val_accuracy: 0.7203\n",
      "Epoch 31/100\n",
      "28/28 [==============================] - 0s 4ms/step - loss: 0.1752 - accuracy: 0.9342 - val_loss: 1.0763 - val_accuracy: 0.7203\n",
      "Epoch 32/100\n",
      "28/28 [==============================] - 0s 4ms/step - loss: 0.1923 - accuracy: 0.9263 - val_loss: 1.0409 - val_accuracy: 0.7045\n",
      "Epoch 33/100\n",
      "28/28 [==============================] - 0s 4ms/step - loss: 0.1973 - accuracy: 0.9286 - val_loss: 0.8831 - val_accuracy: 0.7414\n",
      "Epoch 34/100\n",
      "28/28 [==============================] - 0s 4ms/step - loss: 0.1763 - accuracy: 0.9422 - val_loss: 1.0733 - val_accuracy: 0.7150\n",
      "Epoch 35/100\n",
      "28/28 [==============================] - 0s 4ms/step - loss: 0.1522 - accuracy: 0.9467 - val_loss: 0.9480 - val_accuracy: 0.7282\n",
      "Epoch 36/100\n",
      "28/28 [==============================] - 0s 4ms/step - loss: 0.1489 - accuracy: 0.9478 - val_loss: 0.9872 - val_accuracy: 0.7177\n",
      "Epoch 37/100\n",
      "28/28 [==============================] - 0s 4ms/step - loss: 0.1620 - accuracy: 0.9376 - val_loss: 1.1460 - val_accuracy: 0.6913\n",
      "Epoch 38/100\n",
      "28/28 [==============================] - 0s 5ms/step - loss: 0.1628 - accuracy: 0.9388 - val_loss: 1.2444 - val_accuracy: 0.6728\n",
      "Epoch 39/100\n",
      "28/28 [==============================] - 0s 4ms/step - loss: 0.1412 - accuracy: 0.9478 - val_loss: 1.5055 - val_accuracy: 0.6596\n",
      "Epoch 40/100\n",
      "28/28 [==============================] - 0s 4ms/step - loss: 0.1265 - accuracy: 0.9478 - val_loss: 1.2487 - val_accuracy: 0.7045\n",
      "Epoch 41/100\n",
      "28/28 [==============================] - 0s 4ms/step - loss: 0.1632 - accuracy: 0.9399 - val_loss: 1.3648 - val_accuracy: 0.6807\n",
      "Epoch 42/100\n",
      "28/28 [==============================] - 0s 4ms/step - loss: 0.1751 - accuracy: 0.9308 - val_loss: 1.0176 - val_accuracy: 0.7071\n",
      "Epoch 43/100\n",
      "28/28 [==============================] - 0s 4ms/step - loss: 0.1504 - accuracy: 0.9444 - val_loss: 1.1233 - val_accuracy: 0.7177\n",
      "Epoch 44/100\n",
      "28/28 [==============================] - 0s 4ms/step - loss: 0.1936 - accuracy: 0.9172 - val_loss: 0.9169 - val_accuracy: 0.7309\n",
      "Epoch 45/100\n",
      "28/28 [==============================] - 0s 4ms/step - loss: 0.1855 - accuracy: 0.9218 - val_loss: 1.1154 - val_accuracy: 0.7309\n",
      "Epoch 46/100\n",
      "28/28 [==============================] - 0s 4ms/step - loss: 0.1582 - accuracy: 0.9410 - val_loss: 0.9502 - val_accuracy: 0.7230\n",
      "Epoch 47/100\n",
      "28/28 [==============================] - 0s 4ms/step - loss: 0.2128 - accuracy: 0.9206 - val_loss: 0.9846 - val_accuracy: 0.7256\n",
      "Epoch 48/100\n",
      "28/28 [==============================] - 0s 4ms/step - loss: 0.1602 - accuracy: 0.9388 - val_loss: 1.0849 - val_accuracy: 0.7150\n",
      "Epoch 49/100\n",
      "28/28 [==============================] - 0s 4ms/step - loss: 0.1770 - accuracy: 0.9342 - val_loss: 1.1902 - val_accuracy: 0.7177\n",
      "Epoch 50/100\n",
      "28/28 [==============================] - 0s 4ms/step - loss: 0.1795 - accuracy: 0.9218 - val_loss: 0.8983 - val_accuracy: 0.7361\n",
      "Epoch 51/100\n",
      "28/28 [==============================] - 0s 4ms/step - loss: 0.1777 - accuracy: 0.9320 - val_loss: 1.1036 - val_accuracy: 0.7150\n",
      "Epoch 52/100\n",
      "28/28 [==============================] - 0s 4ms/step - loss: 0.2021 - accuracy: 0.9286 - val_loss: 1.0562 - val_accuracy: 0.7203\n",
      "Epoch 53/100\n",
      "28/28 [==============================] - 0s 5ms/step - loss: 0.1581 - accuracy: 0.9422 - val_loss: 1.0992 - val_accuracy: 0.7230\n",
      "Epoch 54/100\n",
      "28/28 [==============================] - 0s 4ms/step - loss: 0.1173 - accuracy: 0.9558 - val_loss: 1.1438 - val_accuracy: 0.7203\n",
      "Epoch 55/100\n",
      "28/28 [==============================] - 0s 4ms/step - loss: 0.1397 - accuracy: 0.9410 - val_loss: 1.2519 - val_accuracy: 0.7071\n",
      "Epoch 56/100\n",
      "28/28 [==============================] - 0s 4ms/step - loss: 0.1608 - accuracy: 0.9354 - val_loss: 1.0054 - val_accuracy: 0.7177\n",
      "Epoch 57/100\n",
      "28/28 [==============================] - 0s 4ms/step - loss: 0.1530 - accuracy: 0.9433 - val_loss: 1.0720 - val_accuracy: 0.7045\n",
      "Epoch 58/100\n",
      "28/28 [==============================] - 0s 4ms/step - loss: 0.1582 - accuracy: 0.9467 - val_loss: 1.3273 - val_accuracy: 0.7018\n"
     ]
    },
    {
     "name": "stdout",
     "output_type": "stream",
     "text": [
      "Epoch 59/100\n",
      "28/28 [==============================] - 0s 4ms/step - loss: 0.1621 - accuracy: 0.9410 - val_loss: 1.1747 - val_accuracy: 0.7335\n",
      "Epoch 60/100\n",
      "28/28 [==============================] - 0s 4ms/step - loss: 0.1466 - accuracy: 0.9467 - val_loss: 1.1348 - val_accuracy: 0.7309\n",
      "Epoch 61/100\n",
      "28/28 [==============================] - 0s 4ms/step - loss: 0.1398 - accuracy: 0.9478 - val_loss: 1.1630 - val_accuracy: 0.7361\n",
      "Epoch 62/100\n",
      "28/28 [==============================] - 0s 4ms/step - loss: 0.1259 - accuracy: 0.9569 - val_loss: 1.2784 - val_accuracy: 0.7177\n",
      "Epoch 63/100\n",
      "28/28 [==============================] - 0s 4ms/step - loss: 0.1363 - accuracy: 0.9422 - val_loss: 1.1874 - val_accuracy: 0.7230\n",
      "Epoch 64/100\n",
      "28/28 [==============================] - 0s 4ms/step - loss: 0.1617 - accuracy: 0.9376 - val_loss: 1.1315 - val_accuracy: 0.7150\n",
      "Epoch 65/100\n",
      "28/28 [==============================] - 0s 4ms/step - loss: 0.1448 - accuracy: 0.9376 - val_loss: 1.0444 - val_accuracy: 0.7309\n",
      "Epoch 66/100\n",
      "28/28 [==============================] - 0s 4ms/step - loss: 0.1995 - accuracy: 0.9297 - val_loss: 0.9764 - val_accuracy: 0.7546\n",
      "Epoch 67/100\n",
      "28/28 [==============================] - 0s 5ms/step - loss: 0.1914 - accuracy: 0.9342 - val_loss: 1.1186 - val_accuracy: 0.7282\n",
      "Epoch 68/100\n",
      "28/28 [==============================] - 0s 4ms/step - loss: 0.1676 - accuracy: 0.9410 - val_loss: 1.1736 - val_accuracy: 0.7230\n",
      "Epoch 69/100\n",
      "28/28 [==============================] - 0s 4ms/step - loss: 0.1528 - accuracy: 0.9422 - val_loss: 1.0493 - val_accuracy: 0.7361\n",
      "Epoch 70/100\n",
      "28/28 [==============================] - 0s 4ms/step - loss: 0.1479 - accuracy: 0.9478 - val_loss: 1.0726 - val_accuracy: 0.7361\n",
      "Epoch 71/100\n",
      "28/28 [==============================] - 0s 4ms/step - loss: 0.1082 - accuracy: 0.9535 - val_loss: 1.3608 - val_accuracy: 0.7071\n",
      "Epoch 72/100\n",
      "28/28 [==============================] - 0s 4ms/step - loss: 0.1305 - accuracy: 0.9501 - val_loss: 1.1910 - val_accuracy: 0.7256\n",
      "Epoch 73/100\n",
      "28/28 [==============================] - 0s 4ms/step - loss: 0.1289 - accuracy: 0.9490 - val_loss: 1.1199 - val_accuracy: 0.7177\n",
      "Epoch 74/100\n",
      "28/28 [==============================] - 0s 4ms/step - loss: 0.1254 - accuracy: 0.9569 - val_loss: 1.2083 - val_accuracy: 0.7124\n",
      "Epoch 75/100\n",
      "28/28 [==============================] - 0s 4ms/step - loss: 0.1327 - accuracy: 0.9535 - val_loss: 1.2451 - val_accuracy: 0.7098\n",
      "Epoch 76/100\n",
      "28/28 [==============================] - 0s 4ms/step - loss: 0.1255 - accuracy: 0.9524 - val_loss: 1.1846 - val_accuracy: 0.7388\n",
      "Epoch 77/100\n",
      "28/28 [==============================] - 0s 4ms/step - loss: 0.1600 - accuracy: 0.9399 - val_loss: 1.3126 - val_accuracy: 0.6939\n",
      "Epoch 78/100\n",
      "28/28 [==============================] - 0s 4ms/step - loss: 0.1412 - accuracy: 0.9410 - val_loss: 1.2050 - val_accuracy: 0.7256\n",
      "Epoch 79/100\n",
      "28/28 [==============================] - 0s 4ms/step - loss: 0.1457 - accuracy: 0.9444 - val_loss: 1.3205 - val_accuracy: 0.7150\n",
      "Epoch 80/100\n",
      "28/28 [==============================] - 0s 4ms/step - loss: 0.1766 - accuracy: 0.9308 - val_loss: 1.3723 - val_accuracy: 0.7071\n",
      "Epoch 81/100\n",
      "28/28 [==============================] - 0s 4ms/step - loss: 0.1868 - accuracy: 0.9331 - val_loss: 1.1535 - val_accuracy: 0.7018\n",
      "Epoch 82/100\n",
      "28/28 [==============================] - 0s 4ms/step - loss: 0.1729 - accuracy: 0.9274 - val_loss: 1.3939 - val_accuracy: 0.7177\n",
      "Epoch 83/100\n",
      "28/28 [==============================] - 0s 4ms/step - loss: 0.1913 - accuracy: 0.9331 - val_loss: 1.1433 - val_accuracy: 0.7018\n",
      "Epoch 84/100\n",
      "28/28 [==============================] - 0s 4ms/step - loss: 0.1713 - accuracy: 0.9331 - val_loss: 1.2947 - val_accuracy: 0.7018\n",
      "Epoch 85/100\n",
      "28/28 [==============================] - 0s 4ms/step - loss: 0.1574 - accuracy: 0.9399 - val_loss: 1.1450 - val_accuracy: 0.7282\n",
      "Epoch 86/100\n",
      "28/28 [==============================] - 0s 4ms/step - loss: 0.1330 - accuracy: 0.9422 - val_loss: 1.3706 - val_accuracy: 0.6939\n",
      "Epoch 87/100\n",
      "28/28 [==============================] - 0s 4ms/step - loss: 0.1736 - accuracy: 0.9252 - val_loss: 1.3092 - val_accuracy: 0.7071\n",
      "Epoch 88/100\n",
      "28/28 [==============================] - 0s 4ms/step - loss: 0.1468 - accuracy: 0.9433 - val_loss: 1.2296 - val_accuracy: 0.7203\n",
      "Epoch 89/100\n",
      "28/28 [==============================] - 0s 4ms/step - loss: 0.1533 - accuracy: 0.9422 - val_loss: 1.3462 - val_accuracy: 0.6939\n",
      "Epoch 90/100\n",
      "28/28 [==============================] - 0s 4ms/step - loss: 0.1565 - accuracy: 0.9342 - val_loss: 1.2294 - val_accuracy: 0.7150\n",
      "Epoch 91/100\n",
      "28/28 [==============================] - 0s 4ms/step - loss: 0.1812 - accuracy: 0.9274 - val_loss: 1.4187 - val_accuracy: 0.7018\n",
      "Epoch 92/100\n",
      "28/28 [==============================] - 0s 4ms/step - loss: 0.1895 - accuracy: 0.9206 - val_loss: 1.3857 - val_accuracy: 0.6992\n",
      "Epoch 93/100\n",
      "28/28 [==============================] - 0s 4ms/step - loss: 0.1677 - accuracy: 0.9229 - val_loss: 1.5289 - val_accuracy: 0.6992\n",
      "Epoch 94/100\n",
      "28/28 [==============================] - 0s 4ms/step - loss: 0.2028 - accuracy: 0.9172 - val_loss: 1.3825 - val_accuracy: 0.7045\n",
      "Epoch 95/100\n",
      "28/28 [==============================] - 0s 4ms/step - loss: 0.1586 - accuracy: 0.9433 - val_loss: 1.2152 - val_accuracy: 0.7203\n",
      "Epoch 96/100\n",
      "28/28 [==============================] - 0s 4ms/step - loss: 0.1403 - accuracy: 0.9444 - val_loss: 1.2607 - val_accuracy: 0.6807\n",
      "Epoch 97/100\n",
      "28/28 [==============================] - 0s 4ms/step - loss: 0.2051 - accuracy: 0.9195 - val_loss: 1.3720 - val_accuracy: 0.6913\n",
      "Epoch 98/100\n",
      "28/28 [==============================] - 0s 4ms/step - loss: 0.1460 - accuracy: 0.9376 - val_loss: 1.3090 - val_accuracy: 0.7124\n",
      "Epoch 99/100\n",
      "28/28 [==============================] - 0s 4ms/step - loss: 0.1401 - accuracy: 0.9456 - val_loss: 1.1700 - val_accuracy: 0.7361\n",
      "Epoch 100/100\n",
      "28/28 [==============================] - 0s 4ms/step - loss: 0.1364 - accuracy: 0.9399 - val_loss: 1.2610 - val_accuracy: 0.7361\n"
     ]
    }
   ],
   "source": [
    "cnn_history = cnn_model.fit(slice_txe, slice_ty, validation_data=(slice_vxe, slice_vy), batch_size=32, epochs=100)"
   ]
  },
  {
   "cell_type": "code",
   "execution_count": 363,
   "metadata": {},
   "outputs": [],
   "source": [
    "array = np.ones((12, 224, 224, 3))"
   ]
  },
  {
   "cell_type": "code",
   "execution_count": 398,
   "metadata": {
    "scrolled": true
   },
   "outputs": [
    {
     "name": "stderr",
     "output_type": "stream",
     "text": [
      "100%|██████████| 100/100 [00:29<00:00,  3.44it/s]\n"
     ]
    }
   ],
   "source": [
    "def slice_list_to_array(slices):\n",
    "    stack = np.stack([path_to_array(path) for path in slices])\n",
    "    stack = mob.predict(stack)\n",
    "    remaining = 25 - stack.shape[0]\n",
    "    stack = np.pad(stack, [(0, remaining), (0,0), ], constant_values=0)\n",
    "    return stack\n",
    "\n",
    "def slice_list_to_label_array(slices):\n",
    "    labels = [data.labels[s] for s in slices]\n",
    "    labels = np.array([LABEL_INDEX[label] for label in labels])\n",
    "    labels = to_categorical(labels, num_classes=5)\n",
    "    remaining = 25 - labels.shape[0]\n",
    "    labels = np.pad(labels, [(0, remaining), (0, 0)], constant_values=0)\n",
    "    return labels\n",
    "\n",
    "patient_x = []\n",
    "for phase in tqdm(phases):\n",
    "    patient_x.append(slice_list_to_array(phase))\n",
    "patient_x = np.stack(patient_x)\n",
    "patient_y = np.stack([slice_list_to_label_array(p) for p in phases])"
   ]
  },
  {
   "cell_type": "code",
   "execution_count": 402,
   "metadata": {
    "scrolled": true
   },
   "outputs": [
    {
     "name": "stdout",
     "output_type": "stream",
     "text": [
      "(100, 25, 1024)\n",
      "(100, 25, 5)\n"
     ]
    }
   ],
   "source": [
    "print(patient_x.shape)\n",
    "print(patient_y.shape)"
   ]
  },
  {
   "cell_type": "code",
   "execution_count": 400,
   "metadata": {},
   "outputs": [],
   "source": [
    "cut70 = patient_x.shape[0] * 7 // 10\n",
    "\n",
    "patient_tx = patient_x[:cut70]\n",
    "patient_vx = patient_x[cut70:]\n",
    "patient_ty = patient_y[:cut70]\n",
    "patient_vy = patient_y[cut70:]"
   ]
  },
  {
   "cell_type": "code",
   "execution_count": 412,
   "metadata": {},
   "outputs": [],
   "source": [
    "rnn_model = Sequential()\n",
    "rnn_model.add(LSTM(512, input_shape=(25, 1024), return_sequences=True))\n",
    "rnn_model.add(Dropout(0.5))\n",
    "rnn_model.add(LSTM(512, input_shape=(25, 1024), return_sequences=True))\n",
    "rnn_model.add(Dropout(0.5))\n",
    "rnn_model.add(TimeDistributed(Dense(5, activation=\"softmax\")))\n",
    "rnn_model.compile(loss='categorical_crossentropy',\n",
    "                  optimizer=\"adam\",\n",
    "                  metrics=['accuracy'])"
   ]
  },
  {
   "cell_type": "code",
   "execution_count": 413,
   "metadata": {
    "scrolled": true
   },
   "outputs": [
    {
     "name": "stdout",
     "output_type": "stream",
     "text": [
      "Epoch 1/100\n",
      "18/18 [==============================] - 4s 198ms/step - loss: 0.8336 - accuracy: 0.2417 - val_loss: 0.7170 - val_accuracy: 0.1880\n",
      "Epoch 2/100\n",
      "18/18 [==============================] - 3s 158ms/step - loss: 0.6733 - accuracy: 0.2463 - val_loss: 0.5040 - val_accuracy: 0.4000\n",
      "Epoch 3/100\n",
      "18/18 [==============================] - 3s 192ms/step - loss: 0.4578 - accuracy: 0.4349 - val_loss: 0.4525 - val_accuracy: 0.4907\n",
      "Epoch 4/100\n",
      "18/18 [==============================] - 3s 152ms/step - loss: 0.3747 - accuracy: 0.4823 - val_loss: 0.3448 - val_accuracy: 0.4560\n",
      "Epoch 5/100\n",
      "18/18 [==============================] - 3s 166ms/step - loss: 0.3382 - accuracy: 0.5371 - val_loss: 0.3648 - val_accuracy: 0.6613\n",
      "Epoch 6/100\n",
      "18/18 [==============================] - 3s 161ms/step - loss: 0.2827 - accuracy: 0.6309 - val_loss: 0.3072 - val_accuracy: 0.7360\n",
      "Epoch 7/100\n",
      "18/18 [==============================] - 3s 156ms/step - loss: 0.2712 - accuracy: 0.6691 - val_loss: 0.3633 - val_accuracy: 0.6307\n",
      "Epoch 8/100\n",
      "18/18 [==============================] - 3s 166ms/step - loss: 0.2381 - accuracy: 0.7200 - val_loss: 0.3121 - val_accuracy: 0.7027\n",
      "Epoch 9/100\n",
      "18/18 [==============================] - 3s 151ms/step - loss: 0.2327 - accuracy: 0.6960 - val_loss: 0.4777 - val_accuracy: 0.6760\n",
      "Epoch 10/100\n",
      "18/18 [==============================] - 3s 147ms/step - loss: 0.2400 - accuracy: 0.7537 - val_loss: 0.3299 - val_accuracy: 0.6547\n",
      "Epoch 11/100\n",
      "18/18 [==============================] - 3s 147ms/step - loss: 0.1809 - accuracy: 0.7063 - val_loss: 0.3600 - val_accuracy: 0.7973\n",
      "Epoch 12/100\n",
      "18/18 [==============================] - 3s 162ms/step - loss: 0.1664 - accuracy: 0.7731 - val_loss: 0.3232 - val_accuracy: 0.7747\n",
      "Epoch 13/100\n",
      "18/18 [==============================] - 3s 153ms/step - loss: 0.1520 - accuracy: 0.7931 - val_loss: 0.3534 - val_accuracy: 0.7600\n",
      "Epoch 14/100\n",
      "18/18 [==============================] - 3s 143ms/step - loss: 0.1496 - accuracy: 0.7526 - val_loss: 0.3381 - val_accuracy: 0.7600\n",
      "Epoch 15/100\n",
      "18/18 [==============================] - 3s 144ms/step - loss: 0.1282 - accuracy: 0.7714 - val_loss: 0.3597 - val_accuracy: 0.7667\n",
      "Epoch 16/100\n",
      "18/18 [==============================] - 3s 152ms/step - loss: 0.1386 - accuracy: 0.7389 - val_loss: 0.4424 - val_accuracy: 0.6213\n",
      "Epoch 17/100\n",
      "18/18 [==============================] - 3s 192ms/step - loss: 0.1307 - accuracy: 0.7326 - val_loss: 0.4125 - val_accuracy: 0.7733\n",
      "Epoch 18/100\n",
      "18/18 [==============================] - 4s 204ms/step - loss: 0.1016 - accuracy: 0.8211 - val_loss: 0.4121 - val_accuracy: 0.7307\n",
      "Epoch 19/100\n",
      "18/18 [==============================] - 4s 207ms/step - loss: 0.1262 - accuracy: 0.7154 - val_loss: 0.3846 - val_accuracy: 0.6947\n",
      "Epoch 20/100\n",
      "18/18 [==============================] - 4s 208ms/step - loss: 0.1066 - accuracy: 0.7349 - val_loss: 0.4234 - val_accuracy: 0.7413\n",
      "Epoch 21/100\n",
      "18/18 [==============================] - 3s 148ms/step - loss: 0.1004 - accuracy: 0.7691 - val_loss: 0.4195 - val_accuracy: 0.7640\n",
      "Epoch 22/100\n",
      "18/18 [==============================] - 4s 204ms/step - loss: 0.0983 - accuracy: 0.7971 - val_loss: 0.4470 - val_accuracy: 0.7280\n",
      "Epoch 23/100\n",
      "18/18 [==============================] - 4s 202ms/step - loss: 0.1128 - accuracy: 0.7863 - val_loss: 0.3989 - val_accuracy: 0.7547\n",
      "Epoch 24/100\n",
      "18/18 [==============================] - 4s 204ms/step - loss: 0.0907 - accuracy: 0.8074 - val_loss: 0.3836 - val_accuracy: 0.6893\n",
      "Epoch 25/100\n",
      "18/18 [==============================] - 3s 185ms/step - loss: 0.0846 - accuracy: 0.7720 - val_loss: 0.3996 - val_accuracy: 0.7933\n",
      "Epoch 26/100\n",
      "18/18 [==============================] - 3s 142ms/step - loss: 0.0812 - accuracy: 0.7503 - val_loss: 0.3826 - val_accuracy: 0.6307\n",
      "Epoch 27/100\n",
      "18/18 [==============================] - 3s 149ms/step - loss: 0.0795 - accuracy: 0.7480 - val_loss: 0.3845 - val_accuracy: 0.6200\n",
      "Epoch 28/100\n",
      "18/18 [==============================] - 3s 150ms/step - loss: 0.0676 - accuracy: 0.7760 - val_loss: 0.5139 - val_accuracy: 0.6987\n",
      "Epoch 29/100\n",
      "18/18 [==============================] - 3s 159ms/step - loss: 0.0737 - accuracy: 0.7543 - val_loss: 0.4078 - val_accuracy: 0.7187\n",
      "Epoch 30/100\n",
      "18/18 [==============================] - 3s 149ms/step - loss: 0.0714 - accuracy: 0.8057 - val_loss: 0.5683 - val_accuracy: 0.7853\n",
      "Epoch 31/100\n",
      "18/18 [==============================] - 3s 153ms/step - loss: 0.0664 - accuracy: 0.7383 - val_loss: 0.5676 - val_accuracy: 0.5893\n",
      "Epoch 32/100\n",
      "18/18 [==============================] - 3s 147ms/step - loss: 0.0647 - accuracy: 0.7457 - val_loss: 0.4489 - val_accuracy: 0.6373\n",
      "Epoch 33/100\n",
      "18/18 [==============================] - 3s 145ms/step - loss: 0.0592 - accuracy: 0.7709 - val_loss: 0.4244 - val_accuracy: 0.6960\n",
      "Epoch 34/100\n",
      "18/18 [==============================] - 3s 142ms/step - loss: 0.0503 - accuracy: 0.7434 - val_loss: 0.5170 - val_accuracy: 0.6200\n",
      "Epoch 35/100\n",
      "18/18 [==============================] - 3s 145ms/step - loss: 0.0415 - accuracy: 0.7691 - val_loss: 0.4560 - val_accuracy: 0.7040\n",
      "Epoch 36/100\n",
      "18/18 [==============================] - 3s 147ms/step - loss: 0.0423 - accuracy: 0.7783 - val_loss: 0.4991 - val_accuracy: 0.7173\n",
      "Epoch 37/100\n",
      "18/18 [==============================] - 3s 148ms/step - loss: 0.0531 - accuracy: 0.8074 - val_loss: 0.5398 - val_accuracy: 0.7893\n",
      "Epoch 38/100\n",
      "18/18 [==============================] - 3s 143ms/step - loss: 0.0492 - accuracy: 0.7943 - val_loss: 0.4533 - val_accuracy: 0.7493\n",
      "Epoch 39/100\n",
      "18/18 [==============================] - 3s 145ms/step - loss: 0.0396 - accuracy: 0.8160 - val_loss: 0.6043 - val_accuracy: 0.7440\n",
      "Epoch 40/100\n",
      "18/18 [==============================] - 3s 155ms/step - loss: 0.0713 - accuracy: 0.7771 - val_loss: 0.5012 - val_accuracy: 0.6187\n",
      "Epoch 41/100\n",
      "18/18 [==============================] - 3s 145ms/step - loss: 0.0482 - accuracy: 0.7571 - val_loss: 0.4827 - val_accuracy: 0.6720\n",
      "Epoch 42/100\n",
      "18/18 [==============================] - 3s 149ms/step - loss: 0.0429 - accuracy: 0.7874 - val_loss: 0.5324 - val_accuracy: 0.7427\n",
      "Epoch 43/100\n",
      "18/18 [==============================] - 3s 145ms/step - loss: 0.0289 - accuracy: 0.7846 - val_loss: 0.4511 - val_accuracy: 0.7973\n",
      "Epoch 44/100\n",
      "18/18 [==============================] - 3s 142ms/step - loss: 0.0300 - accuracy: 0.8091 - val_loss: 0.6061 - val_accuracy: 0.6947\n",
      "Epoch 45/100\n",
      "18/18 [==============================] - 3s 148ms/step - loss: 0.0399 - accuracy: 0.7566 - val_loss: 0.5987 - val_accuracy: 0.7253\n",
      "Epoch 46/100\n",
      "18/18 [==============================] - 3s 160ms/step - loss: 0.0438 - accuracy: 0.7577 - val_loss: 0.4809 - val_accuracy: 0.6987\n",
      "Epoch 47/100\n",
      "18/18 [==============================] - 3s 160ms/step - loss: 0.0385 - accuracy: 0.7474 - val_loss: 0.5252 - val_accuracy: 0.7467\n",
      "Epoch 48/100\n",
      "18/18 [==============================] - 3s 159ms/step - loss: 0.0278 - accuracy: 0.7994 - val_loss: 0.6017 - val_accuracy: 0.6653\n",
      "Epoch 49/100\n",
      "18/18 [==============================] - 3s 149ms/step - loss: 0.0329 - accuracy: 0.7823 - val_loss: 0.5913 - val_accuracy: 0.7600\n",
      "Epoch 50/100\n",
      "18/18 [==============================] - 3s 145ms/step - loss: 0.0257 - accuracy: 0.7749 - val_loss: 0.5986 - val_accuracy: 0.7560\n",
      "Epoch 51/100\n",
      "18/18 [==============================] - 3s 140ms/step - loss: 0.0353 - accuracy: 0.8051 - val_loss: 0.5494 - val_accuracy: 0.7813\n",
      "Epoch 52/100\n",
      "18/18 [==============================] - 3s 139ms/step - loss: 0.0326 - accuracy: 0.8451 - val_loss: 0.4717 - val_accuracy: 0.7773\n",
      "Epoch 53/100\n",
      "18/18 [==============================] - 2s 138ms/step - loss: 0.0326 - accuracy: 0.8217 - val_loss: 0.4827 - val_accuracy: 0.7827\n",
      "Epoch 54/100\n",
      "18/18 [==============================] - 3s 140ms/step - loss: 0.0327 - accuracy: 0.8109 - val_loss: 0.5156 - val_accuracy: 0.7720\n",
      "Epoch 55/100\n",
      "18/18 [==============================] - 2s 139ms/step - loss: 0.0194 - accuracy: 0.7920 - val_loss: 0.6296 - val_accuracy: 0.6987\n",
      "Epoch 56/100\n",
      "18/18 [==============================] - 3s 148ms/step - loss: 0.0176 - accuracy: 0.7606 - val_loss: 0.7556 - val_accuracy: 0.6947\n",
      "Epoch 57/100\n",
      "18/18 [==============================] - 3s 142ms/step - loss: 0.0193 - accuracy: 0.7851 - val_loss: 0.6779 - val_accuracy: 0.7200\n"
     ]
    },
    {
     "name": "stdout",
     "output_type": "stream",
     "text": [
      "Epoch 58/100\n",
      "18/18 [==============================] - 3s 142ms/step - loss: 0.0213 - accuracy: 0.7726 - val_loss: 0.6414 - val_accuracy: 0.7520\n",
      "Epoch 59/100\n",
      "18/18 [==============================] - 3s 145ms/step - loss: 0.0288 - accuracy: 0.8154 - val_loss: 0.4671 - val_accuracy: 0.7973\n",
      "Epoch 60/100\n",
      "18/18 [==============================] - 3s 151ms/step - loss: 0.0432 - accuracy: 0.7983 - val_loss: 0.6895 - val_accuracy: 0.7347\n",
      "Epoch 61/100\n",
      "18/18 [==============================] - 3s 149ms/step - loss: 0.0533 - accuracy: 0.8080 - val_loss: 0.5409 - val_accuracy: 0.7747\n",
      "Epoch 62/100\n",
      "18/18 [==============================] - 3s 142ms/step - loss: 0.0393 - accuracy: 0.8160 - val_loss: 0.5537 - val_accuracy: 0.8027\n",
      "Epoch 63/100\n",
      "18/18 [==============================] - 2s 138ms/step - loss: 0.0304 - accuracy: 0.8137 - val_loss: 0.5431 - val_accuracy: 0.8147\n",
      "Epoch 64/100\n",
      "18/18 [==============================] - 3s 151ms/step - loss: 0.0233 - accuracy: 0.8234 - val_loss: 0.5745 - val_accuracy: 0.7107\n",
      "Epoch 65/100\n",
      "18/18 [==============================] - 3s 148ms/step - loss: 0.0221 - accuracy: 0.7697 - val_loss: 0.6475 - val_accuracy: 0.6880\n",
      "Epoch 66/100\n",
      "18/18 [==============================] - 3s 152ms/step - loss: 0.0156 - accuracy: 0.7840 - val_loss: 0.7555 - val_accuracy: 0.7653\n",
      "Epoch 67/100\n",
      "18/18 [==============================] - 3s 151ms/step - loss: 0.0187 - accuracy: 0.8011 - val_loss: 0.6737 - val_accuracy: 0.6853\n",
      "Epoch 68/100\n",
      "18/18 [==============================] - 3s 144ms/step - loss: 0.0256 - accuracy: 0.7640 - val_loss: 0.6239 - val_accuracy: 0.7533\n",
      "Epoch 69/100\n",
      "18/18 [==============================] - 3s 159ms/step - loss: 0.0144 - accuracy: 0.8366 - val_loss: 0.6240 - val_accuracy: 0.8120\n",
      "Epoch 70/100\n",
      "18/18 [==============================] - 3s 153ms/step - loss: 0.0135 - accuracy: 0.8303 - val_loss: 0.6275 - val_accuracy: 0.8027\n",
      "Epoch 71/100\n",
      "18/18 [==============================] - 3s 148ms/step - loss: 0.0078 - accuracy: 0.8177 - val_loss: 0.6520 - val_accuracy: 0.7827\n",
      "Epoch 72/100\n",
      "18/18 [==============================] - 3s 144ms/step - loss: 0.0071 - accuracy: 0.8177 - val_loss: 0.6262 - val_accuracy: 0.8027\n",
      "Epoch 73/100\n",
      "18/18 [==============================] - 3s 143ms/step - loss: 0.0105 - accuracy: 0.8051 - val_loss: 0.7450 - val_accuracy: 0.8027\n",
      "Epoch 74/100\n",
      "18/18 [==============================] - 3s 142ms/step - loss: 0.0146 - accuracy: 0.8086 - val_loss: 0.6409 - val_accuracy: 0.7747\n",
      "Epoch 75/100\n",
      "18/18 [==============================] - 3s 140ms/step - loss: 0.0173 - accuracy: 0.8057 - val_loss: 0.7018 - val_accuracy: 0.7707\n",
      "Epoch 76/100\n",
      "18/18 [==============================] - 3s 143ms/step - loss: 0.0139 - accuracy: 0.8063 - val_loss: 0.6994 - val_accuracy: 0.7800\n",
      "Epoch 77/100\n",
      "18/18 [==============================] - 3s 146ms/step - loss: 0.0175 - accuracy: 0.7863 - val_loss: 0.7933 - val_accuracy: 0.7640\n",
      "Epoch 78/100\n",
      "18/18 [==============================] - 3s 143ms/step - loss: 0.0177 - accuracy: 0.8137 - val_loss: 0.6143 - val_accuracy: 0.7693\n",
      "Epoch 79/100\n",
      "18/18 [==============================] - 3s 141ms/step - loss: 0.0275 - accuracy: 0.7743 - val_loss: 0.6335 - val_accuracy: 0.6573\n",
      "Epoch 80/100\n",
      "18/18 [==============================] - 2s 137ms/step - loss: 0.0174 - accuracy: 0.7583 - val_loss: 0.6173 - val_accuracy: 0.6427\n",
      "Epoch 81/100\n",
      "18/18 [==============================] - 3s 140ms/step - loss: 0.0169 - accuracy: 0.8114 - val_loss: 0.7822 - val_accuracy: 0.8093\n",
      "Epoch 82/100\n",
      "18/18 [==============================] - 2s 139ms/step - loss: 0.0213 - accuracy: 0.8440 - val_loss: 0.7842 - val_accuracy: 0.7733\n",
      "Epoch 83/100\n",
      "18/18 [==============================] - 3s 140ms/step - loss: 0.0188 - accuracy: 0.8451 - val_loss: 0.6508 - val_accuracy: 0.8067\n",
      "Epoch 84/100\n",
      "18/18 [==============================] - 3s 140ms/step - loss: 0.0170 - accuracy: 0.8423 - val_loss: 0.8187 - val_accuracy: 0.7547\n",
      "Epoch 85/100\n",
      "18/18 [==============================] - 2s 138ms/step - loss: 0.0438 - accuracy: 0.8480 - val_loss: 0.6030 - val_accuracy: 0.8000\n",
      "Epoch 86/100\n",
      "18/18 [==============================] - 3s 139ms/step - loss: 0.0237 - accuracy: 0.8371 - val_loss: 0.7231 - val_accuracy: 0.7667\n",
      "Epoch 87/100\n",
      "18/18 [==============================] - 3s 141ms/step - loss: 0.0195 - accuracy: 0.7623 - val_loss: 0.6402 - val_accuracy: 0.6280\n",
      "Epoch 88/100\n",
      "18/18 [==============================] - 3s 140ms/step - loss: 0.0213 - accuracy: 0.7606 - val_loss: 0.6641 - val_accuracy: 0.7027\n",
      "Epoch 89/100\n",
      "18/18 [==============================] - 3s 144ms/step - loss: 0.0100 - accuracy: 0.7834 - val_loss: 0.6516 - val_accuracy: 0.7600\n",
      "Epoch 90/100\n",
      "18/18 [==============================] - 3s 141ms/step - loss: 0.0119 - accuracy: 0.8046 - val_loss: 0.5923 - val_accuracy: 0.7947\n",
      "Epoch 91/100\n",
      "18/18 [==============================] - 3s 140ms/step - loss: 0.0102 - accuracy: 0.8286 - val_loss: 0.5750 - val_accuracy: 0.8120\n",
      "Epoch 92/100\n",
      "18/18 [==============================] - 3s 142ms/step - loss: 0.0160 - accuracy: 0.7851 - val_loss: 0.5324 - val_accuracy: 0.7347\n",
      "Epoch 93/100\n",
      "18/18 [==============================] - 3s 139ms/step - loss: 0.0172 - accuracy: 0.7800 - val_loss: 0.5882 - val_accuracy: 0.6680\n",
      "Epoch 94/100\n",
      "18/18 [==============================] - 3s 140ms/step - loss: 0.0128 - accuracy: 0.7817 - val_loss: 0.6541 - val_accuracy: 0.7453\n",
      "Epoch 95/100\n",
      "18/18 [==============================] - 3s 143ms/step - loss: 0.0203 - accuracy: 0.7720 - val_loss: 0.6810 - val_accuracy: 0.5773\n",
      "Epoch 96/100\n",
      "18/18 [==============================] - 2s 138ms/step - loss: 0.0176 - accuracy: 0.7766 - val_loss: 0.5860 - val_accuracy: 0.7467\n",
      "Epoch 97/100\n",
      "18/18 [==============================] - 3s 140ms/step - loss: 0.0164 - accuracy: 0.8097 - val_loss: 0.6194 - val_accuracy: 0.8080\n",
      "Epoch 98/100\n",
      "18/18 [==============================] - 3s 142ms/step - loss: 0.0280 - accuracy: 0.8126 - val_loss: 0.6404 - val_accuracy: 0.7787\n",
      "Epoch 99/100\n",
      "18/18 [==============================] - 3s 143ms/step - loss: 0.0284 - accuracy: 0.8337 - val_loss: 0.6480 - val_accuracy: 0.7853\n",
      "Epoch 100/100\n",
      "18/18 [==============================] - 3s 143ms/step - loss: 0.0235 - accuracy: 0.8200 - val_loss: 0.5028 - val_accuracy: 0.8093\n"
     ]
    }
   ],
   "source": [
    "rnn_history = rnn_model.fit(patient_tx, patient_ty, validation_data=(patient_vx, patient_vy), batch_size=4, epochs=100)"
   ]
  },
  {
   "cell_type": "code",
   "execution_count": 477,
   "metadata": {
    "scrolled": true
   },
   "outputs": [],
   "source": [
    "history = {}\n",
    "history[\"cnn_val_acc\"] = cnn_history.history[\"val_accuracy\"]\n",
    "history[\"rnn_val_acc\"] = rnn_history.history[\"val_accuracy\"]"
   ]
  },
  {
   "cell_type": "code",
   "execution_count": 480,
   "metadata": {},
   "outputs": [
    {
     "data": {
      "text/plain": [
       "<AxesSubplot:>"
      ]
     },
     "execution_count": 480,
     "metadata": {},
     "output_type": "execute_result"
    },
    {
     "data": {
      "image/png": "[encoded data removed]",
      "text/plain": [
       "<Figure size 432x288 with 1 Axes>"
      ]
     },
     "metadata": {
      "needs_background": "light"
     },
     "output_type": "display_data"
    }
   ],
   "source": [
    "pd.DataFrame(history).plot(xlim=[0, 100], ylim=[0.5, 0.9])"
   ]
  },
  {
   "cell_type": "code",
   "execution_count": 451,
   "metadata": {},
   "outputs": [],
   "source": [
    "vp = rnn_model.predict(patient_vx)"
   ]
  },
  {
   "cell_type": "code",
   "execution_count": 461,
   "metadata": {},
   "outputs": [
    {
     "data": {
      "text/plain": [
       "0.7893258426966292"
      ]
     },
     "execution_count": 461,
     "metadata": {},
     "output_type": "execute_result"
    }
   ],
   "source": [
    "correct = 0\n",
    "valid = 0\n",
    "for i in range(30):\n",
    "    for j in range(25):\n",
    "        prediction = tf.argmax(vp[i][j]).numpy()\n",
    "        if np.count_nonzero(patient_vy[i][j]) == 1:\n",
    "            valid += 1\n",
    "        if patient_vy[i][j][prediction] == 1:\n",
    "            correct += 1\n",
    "correct / valid"
   ]
  },
  {
   "cell_type": "code",
   "execution_count": 464,
   "metadata": {},
   "outputs": [],
   "source": [
    "slice_vp = cnn_model.predict(slice_vxe)"
   ]
  },
  {
   "cell_type": "code",
   "execution_count": 467,
   "metadata": {
    "scrolled": true
   },
   "outputs": [
    {
     "data": {
      "text/plain": [
       "0.7361477572559367"
      ]
     },
     "execution_count": 467,
     "metadata": {},
     "output_type": "execute_result"
    }
   ],
   "source": [
    "correct = 0\n",
    "valid = 0\n",
    "for i in range(379):\n",
    "    prediction = tf.argmax(slice_vp[i]).numpy()\n",
    "    if np.count_nonzero(slice_vy[i]) == 1:\n",
    "        valid += 1\n",
    "    if slice_vy[i][prediction] == 1:\n",
    "        correct += 1\n",
    "correct / valid"
   ]
  }
 ],
 "metadata": {
  "kernelspec": {
   "display_name": "Python 3",
   "language": "python",
   "name": "python3"
  },
  "language_info": {
   "codemirror_mode": {
    "name": "ipython",
    "version": 3
   },
   "file_extension": ".py",
   "mimetype": "text/x-python",
   "name": "python",
   "nbconvert_exporter": "python",
   "pygments_lexer": "ipython3",
   "version": "3.7.3"
  }
 },
 "nbformat": 4,
 "nbformat_minor": 4
}
